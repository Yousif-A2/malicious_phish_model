{
  "metadata": {
    "kernelspec": {
      "language": "python",
      "display_name": "Python 3",
      "name": "python3"
    },
    "language_info": {
      "name": "python",
      "version": "3.10.10",
      "mimetype": "text/x-python",
      "codemirror_mode": {
        "name": "ipython",
        "version": 3
      },
      "pygments_lexer": "ipython3",
      "nbconvert_exporter": "python",
      "file_extension": ".py"
    },
    "colab": {
      "provenance": []
    }
  },
  "nbformat_minor": 0,
  "nbformat": 4,
  "cells": [
    {
      "cell_type": "markdown",
      "source": [
        "#imports several libraries for data processing, visualization, and analysis."
      ],
      "metadata": {
        "id": "6-YQ8ctNCkn4"
      }
    },
    {
      "cell_type": "code",
      "source": [
        "import numpy as np\n",
        "import pandas as pd # data processing, CSV file I/O (e.g. pd.read_csv)\n",
        "# matplotlib imports are used for visualisation and to plot confusion matrices for the classifiers\n",
        "from matplotlib import pyplot as plt\n",
        "# Seaborn is a data visualization library built on top of Matplotlib, providing a higher-level interface\n",
        "# for creating statistical graphics with improved style and simplicity\n",
        "import seaborn as sns"
      ],
      "metadata": {
        "_uuid": "8f2839f25d086af736a60e9eeb907d3b93b6e0e5",
        "_cell_guid": "b1076dfc-b9ad-4769-8c92-a6c4dae69d19",
        "execution": {
          "iopub.status.busy": "2023-08-02T21:20:29.186689Z",
          "iopub.execute_input": "2023-08-02T21:20:29.187685Z",
          "iopub.status.idle": "2023-08-02T21:20:30.162141Z",
          "shell.execute_reply.started": "2023-08-02T21:20:29.187643Z",
          "shell.execute_reply": "2023-08-02T21:20:30.161142Z"
        },
        "trusted": true,
        "id": "cxLVqnbZNmbK"
      },
      "execution_count": null,
      "outputs": []
    },
    {
      "cell_type": "markdown",
      "source": [
        "# URLs = benign, defacement, malware, phishing"
      ],
      "metadata": {
        "id": "YD3d-ATnNmbN"
      }
    },
    {
      "cell_type": "markdown",
      "source": [
        "##Upload the data and show up"
      ],
      "metadata": {
        "id": "EBEfWp1hE1vF"
      }
    },
    {
      "cell_type": "code",
      "source": [
        "data = pd.read_csv('/content/malicious_phish.csv')\n",
        "\n",
        "#data.shape\n",
        "cols = ['phishing','benign','defacement','malware']\n",
        "data.columns = ['text','label']\n",
        "data.head()"
      ],
      "metadata": {
        "execution": {
          "iopub.status.busy": "2023-08-02T21:20:30.163906Z",
          "iopub.execute_input": "2023-08-02T21:20:30.164287Z",
          "iopub.status.idle": "2023-08-02T21:20:32.671277Z",
          "shell.execute_reply.started": "2023-08-02T21:20:30.164253Z",
          "shell.execute_reply": "2023-08-02T21:20:32.669738Z"
        },
        "trusted": true,
        "colab": {
          "base_uri": "https://localhost:8080/",
          "height": 206
        },
        "id": "3H0F8uhoNmbO",
        "outputId": "2c37a1ec-2f1a-47e4-983d-330d3110f82c"
      },
      "execution_count": null,
      "outputs": [
        {
          "output_type": "execute_result",
          "data": {
            "text/plain": [
              "                                                text       label\n",
              "0                                   br-icloud.com.br    phishing\n",
              "1                mp3raid.com/music/krizz_kaliko.html      benign\n",
              "2                    bopsecrets.org/rexroth/cr/1.htm      benign\n",
              "3  http://www.garage-pirenne.be/index.php?option=...  defacement\n",
              "4  http://adventure-nicaragua.net/index.php?optio...  defacement"
            ],
            "text/html": [
              "\n",
              "  <div id=\"df-415f9f3a-6d93-4b0d-8b09-d9a6a47ab1d8\" class=\"colab-df-container\">\n",
              "    <div>\n",
              "<style scoped>\n",
              "    .dataframe tbody tr th:only-of-type {\n",
              "        vertical-align: middle;\n",
              "    }\n",
              "\n",
              "    .dataframe tbody tr th {\n",
              "        vertical-align: top;\n",
              "    }\n",
              "\n",
              "    .dataframe thead th {\n",
              "        text-align: right;\n",
              "    }\n",
              "</style>\n",
              "<table border=\"1\" class=\"dataframe\">\n",
              "  <thead>\n",
              "    <tr style=\"text-align: right;\">\n",
              "      <th></th>\n",
              "      <th>text</th>\n",
              "      <th>label</th>\n",
              "    </tr>\n",
              "  </thead>\n",
              "  <tbody>\n",
              "    <tr>\n",
              "      <th>0</th>\n",
              "      <td>br-icloud.com.br</td>\n",
              "      <td>phishing</td>\n",
              "    </tr>\n",
              "    <tr>\n",
              "      <th>1</th>\n",
              "      <td>mp3raid.com/music/krizz_kaliko.html</td>\n",
              "      <td>benign</td>\n",
              "    </tr>\n",
              "    <tr>\n",
              "      <th>2</th>\n",
              "      <td>bopsecrets.org/rexroth/cr/1.htm</td>\n",
              "      <td>benign</td>\n",
              "    </tr>\n",
              "    <tr>\n",
              "      <th>3</th>\n",
              "      <td>http://www.garage-pirenne.be/index.php?option=...</td>\n",
              "      <td>defacement</td>\n",
              "    </tr>\n",
              "    <tr>\n",
              "      <th>4</th>\n",
              "      <td>http://adventure-nicaragua.net/index.php?optio...</td>\n",
              "      <td>defacement</td>\n",
              "    </tr>\n",
              "  </tbody>\n",
              "</table>\n",
              "</div>\n",
              "    <div class=\"colab-df-buttons\">\n",
              "\n",
              "  <div class=\"colab-df-container\">\n",
              "    <button class=\"colab-df-convert\" onclick=\"convertToInteractive('df-415f9f3a-6d93-4b0d-8b09-d9a6a47ab1d8')\"\n",
              "            title=\"Convert this dataframe to an interactive table.\"\n",
              "            style=\"display:none;\">\n",
              "\n",
              "  <svg xmlns=\"http://www.w3.org/2000/svg\" height=\"24px\" viewBox=\"0 -960 960 960\">\n",
              "    <path d=\"M120-120v-720h720v720H120Zm60-500h600v-160H180v160Zm220 220h160v-160H400v160Zm0 220h160v-160H400v160ZM180-400h160v-160H180v160Zm440 0h160v-160H620v160ZM180-180h160v-160H180v160Zm440 0h160v-160H620v160Z\"/>\n",
              "  </svg>\n",
              "    </button>\n",
              "\n",
              "  <style>\n",
              "    .colab-df-container {\n",
              "      display:flex;\n",
              "      gap: 12px;\n",
              "    }\n",
              "\n",
              "    .colab-df-convert {\n",
              "      background-color: #E8F0FE;\n",
              "      border: none;\n",
              "      border-radius: 50%;\n",
              "      cursor: pointer;\n",
              "      display: none;\n",
              "      fill: #1967D2;\n",
              "      height: 32px;\n",
              "      padding: 0 0 0 0;\n",
              "      width: 32px;\n",
              "    }\n",
              "\n",
              "    .colab-df-convert:hover {\n",
              "      background-color: #E2EBFA;\n",
              "      box-shadow: 0px 1px 2px rgba(60, 64, 67, 0.3), 0px 1px 3px 1px rgba(60, 64, 67, 0.15);\n",
              "      fill: #174EA6;\n",
              "    }\n",
              "\n",
              "    .colab-df-buttons div {\n",
              "      margin-bottom: 4px;\n",
              "    }\n",
              "\n",
              "    [theme=dark] .colab-df-convert {\n",
              "      background-color: #3B4455;\n",
              "      fill: #D2E3FC;\n",
              "    }\n",
              "\n",
              "    [theme=dark] .colab-df-convert:hover {\n",
              "      background-color: #434B5C;\n",
              "      box-shadow: 0px 1px 3px 1px rgba(0, 0, 0, 0.15);\n",
              "      filter: drop-shadow(0px 1px 2px rgba(0, 0, 0, 0.3));\n",
              "      fill: #FFFFFF;\n",
              "    }\n",
              "  </style>\n",
              "\n",
              "    <script>\n",
              "      const buttonEl =\n",
              "        document.querySelector('#df-415f9f3a-6d93-4b0d-8b09-d9a6a47ab1d8 button.colab-df-convert');\n",
              "      buttonEl.style.display =\n",
              "        google.colab.kernel.accessAllowed ? 'block' : 'none';\n",
              "\n",
              "      async function convertToInteractive(key) {\n",
              "        const element = document.querySelector('#df-415f9f3a-6d93-4b0d-8b09-d9a6a47ab1d8');\n",
              "        const dataTable =\n",
              "          await google.colab.kernel.invokeFunction('convertToInteractive',\n",
              "                                                    [key], {});\n",
              "        if (!dataTable) return;\n",
              "\n",
              "        const docLinkHtml = 'Like what you see? Visit the ' +\n",
              "          '<a target=\"_blank\" href=https://colab.research.google.com/notebooks/data_table.ipynb>data table notebook</a>'\n",
              "          + ' to learn more about interactive tables.';\n",
              "        element.innerHTML = '';\n",
              "        dataTable['output_type'] = 'display_data';\n",
              "        await google.colab.output.renderOutput(dataTable, element);\n",
              "        const docLink = document.createElement('div');\n",
              "        docLink.innerHTML = docLinkHtml;\n",
              "        element.appendChild(docLink);\n",
              "      }\n",
              "    </script>\n",
              "  </div>\n",
              "\n",
              "\n",
              "<div id=\"df-a0e4eb33-8f72-43c0-a27e-36086cc2e1b1\">\n",
              "  <button class=\"colab-df-quickchart\" onclick=\"quickchart('df-a0e4eb33-8f72-43c0-a27e-36086cc2e1b1')\"\n",
              "            title=\"Suggest charts.\"\n",
              "            style=\"display:none;\">\n",
              "\n",
              "<svg xmlns=\"http://www.w3.org/2000/svg\" height=\"24px\"viewBox=\"0 0 24 24\"\n",
              "     width=\"24px\">\n",
              "    <g>\n",
              "        <path d=\"M19 3H5c-1.1 0-2 .9-2 2v14c0 1.1.9 2 2 2h14c1.1 0 2-.9 2-2V5c0-1.1-.9-2-2-2zM9 17H7v-7h2v7zm4 0h-2V7h2v10zm4 0h-2v-4h2v4z\"/>\n",
              "    </g>\n",
              "</svg>\n",
              "  </button>\n",
              "\n",
              "<style>\n",
              "  .colab-df-quickchart {\n",
              "      --bg-color: #E8F0FE;\n",
              "      --fill-color: #1967D2;\n",
              "      --hover-bg-color: #E2EBFA;\n",
              "      --hover-fill-color: #174EA6;\n",
              "      --disabled-fill-color: #AAA;\n",
              "      --disabled-bg-color: #DDD;\n",
              "  }\n",
              "\n",
              "  [theme=dark] .colab-df-quickchart {\n",
              "      --bg-color: #3B4455;\n",
              "      --fill-color: #D2E3FC;\n",
              "      --hover-bg-color: #434B5C;\n",
              "      --hover-fill-color: #FFFFFF;\n",
              "      --disabled-bg-color: #3B4455;\n",
              "      --disabled-fill-color: #666;\n",
              "  }\n",
              "\n",
              "  .colab-df-quickchart {\n",
              "    background-color: var(--bg-color);\n",
              "    border: none;\n",
              "    border-radius: 50%;\n",
              "    cursor: pointer;\n",
              "    display: none;\n",
              "    fill: var(--fill-color);\n",
              "    height: 32px;\n",
              "    padding: 0;\n",
              "    width: 32px;\n",
              "  }\n",
              "\n",
              "  .colab-df-quickchart:hover {\n",
              "    background-color: var(--hover-bg-color);\n",
              "    box-shadow: 0 1px 2px rgba(60, 64, 67, 0.3), 0 1px 3px 1px rgba(60, 64, 67, 0.15);\n",
              "    fill: var(--button-hover-fill-color);\n",
              "  }\n",
              "\n",
              "  .colab-df-quickchart-complete:disabled,\n",
              "  .colab-df-quickchart-complete:disabled:hover {\n",
              "    background-color: var(--disabled-bg-color);\n",
              "    fill: var(--disabled-fill-color);\n",
              "    box-shadow: none;\n",
              "  }\n",
              "\n",
              "  .colab-df-spinner {\n",
              "    border: 2px solid var(--fill-color);\n",
              "    border-color: transparent;\n",
              "    border-bottom-color: var(--fill-color);\n",
              "    animation:\n",
              "      spin 1s steps(1) infinite;\n",
              "  }\n",
              "\n",
              "  @keyframes spin {\n",
              "    0% {\n",
              "      border-color: transparent;\n",
              "      border-bottom-color: var(--fill-color);\n",
              "      border-left-color: var(--fill-color);\n",
              "    }\n",
              "    20% {\n",
              "      border-color: transparent;\n",
              "      border-left-color: var(--fill-color);\n",
              "      border-top-color: var(--fill-color);\n",
              "    }\n",
              "    30% {\n",
              "      border-color: transparent;\n",
              "      border-left-color: var(--fill-color);\n",
              "      border-top-color: var(--fill-color);\n",
              "      border-right-color: var(--fill-color);\n",
              "    }\n",
              "    40% {\n",
              "      border-color: transparent;\n",
              "      border-right-color: var(--fill-color);\n",
              "      border-top-color: var(--fill-color);\n",
              "    }\n",
              "    60% {\n",
              "      border-color: transparent;\n",
              "      border-right-color: var(--fill-color);\n",
              "    }\n",
              "    80% {\n",
              "      border-color: transparent;\n",
              "      border-right-color: var(--fill-color);\n",
              "      border-bottom-color: var(--fill-color);\n",
              "    }\n",
              "    90% {\n",
              "      border-color: transparent;\n",
              "      border-bottom-color: var(--fill-color);\n",
              "    }\n",
              "  }\n",
              "</style>\n",
              "\n",
              "  <script>\n",
              "    async function quickchart(key) {\n",
              "      const quickchartButtonEl =\n",
              "        document.querySelector('#' + key + ' button');\n",
              "      quickchartButtonEl.disabled = true;  // To prevent multiple clicks.\n",
              "      quickchartButtonEl.classList.add('colab-df-spinner');\n",
              "      try {\n",
              "        const charts = await google.colab.kernel.invokeFunction(\n",
              "            'suggestCharts', [key], {});\n",
              "      } catch (error) {\n",
              "        console.error('Error during call to suggestCharts:', error);\n",
              "      }\n",
              "      quickchartButtonEl.classList.remove('colab-df-spinner');\n",
              "      quickchartButtonEl.classList.add('colab-df-quickchart-complete');\n",
              "    }\n",
              "    (() => {\n",
              "      let quickchartButtonEl =\n",
              "        document.querySelector('#df-a0e4eb33-8f72-43c0-a27e-36086cc2e1b1 button');\n",
              "      quickchartButtonEl.style.display =\n",
              "        google.colab.kernel.accessAllowed ? 'block' : 'none';\n",
              "    })();\n",
              "  </script>\n",
              "</div>\n",
              "    </div>\n",
              "  </div>\n"
            ]
          },
          "metadata": {},
          "execution_count": 4
        }
      ]
    },
    {
      "cell_type": "markdown",
      "source": [],
      "metadata": {
        "id": "Ckg4IwIZE-oM"
      }
    },
    {
      "cell_type": "code",
      "source": [
        "# Create a new figure to plot the pie chart\n",
        "plt.figure()\n",
        "\n",
        "# Access the 'label' column of the DataFrame 'data' and count the occurrences of each unique label\n",
        "# Then, plot the counts as a pie chart, using the 'kind' parameter to specify the chart type as 'pie'\n",
        "# 'autopct' specifies the format for the percentage values displayed on the chart\n",
        "# 'shadow=True' adds a shadow effect to the pie chart\n",
        "data['label'].value_counts().plot(kind='pie', autopct= '%1.0f%%', shadow=True)\n",
        "\n",
        "# Set the title of the plot to 'Types of labels'\n",
        "plt.title('Types of labels')\n",
        "\n",
        "# Display the pie chart\n",
        "plt.show()"
      ],
      "metadata": {
        "execution": {
          "iopub.status.busy": "2023-08-02T21:20:32.672701Z",
          "iopub.execute_input": "2023-08-02T21:20:32.673790Z",
          "iopub.status.idle": "2023-08-02T21:20:33.208502Z",
          "shell.execute_reply.started": "2023-08-02T21:20:32.673753Z",
          "shell.execute_reply": "2023-08-02T21:20:33.207258Z"
        },
        "trusted": true,
        "id": "c2b_JXNkNmbP",
        "colab": {
          "base_uri": "https://localhost:8080/",
          "height": 428
        },
        "outputId": "4896cc3a-5dab-41e3-935d-08d2e3be0cb5"
      },
      "execution_count": null,
      "outputs": [
        {
          "output_type": "display_data",
          "data": {
            "text/plain": [
              "<Figure size 640x480 with 1 Axes>"
            ],
            "image/png": "[encoded data removed]"
          },
          "metadata": {}
        }
      ]
    },
    {
      "cell_type": "markdown",
      "source": [
        "# Split the data to train and test"
      ],
      "metadata": {
        "id": "npgUQ06oNmbP"
      }
    },
    {
      "cell_type": "code",
      "source": [
        "# Import the TfidfVectorizer class from scikit-learn\n",
        "from sklearn.feature_extraction.text import TfidfVectorizer\n",
        "\n",
        "# Create an instance of the TfidfVectorizer class\n",
        "# TfidfVectorizer is used to convert text data into numerical feature vectors\n",
        "vectorizer = TfidfVectorizer()\n",
        "\n",
        "# Use the 'fit_transform' method of the TfidfVectorizer to convert the 'text' column of the DataFrame 'data'\n",
        "# into a TF-IDF weighted numerical matrix representation, represented by variable 'X'\n",
        "# 'fit_transform' fits the vectorizer to the data and transforms the data into a matrix simultaneously\n",
        "X = vectorizer.fit_transform(data['text'])\n",
        "\n",
        "# The resulting matrix 'X' now contains the TF-IDF weighted representations of the text data\n",
        "# 'X.shape' returns the shape of the matrix, where the first dimension represents the number of documents (rows)\n",
        "# and the second dimension represents the number of unique words (features) in the text data (columns)\n",
        "X.shape"
      ],
      "metadata": {
        "execution": {
          "iopub.status.busy": "2023-08-02T21:20:33.214472Z",
          "iopub.execute_input": "2023-08-02T21:20:33.214886Z",
          "iopub.status.idle": "2023-08-02T21:20:46.108792Z",
          "shell.execute_reply.started": "2023-08-02T21:20:33.214844Z",
          "shell.execute_reply": "2023-08-02T21:20:46.107837Z"
        },
        "trusted": true,
        "id": "b03PLCq_NmbQ",
        "colab": {
          "base_uri": "https://localhost:8080/"
        },
        "outputId": "dcea5d66-884e-4db4-cee6-f791874474b8"
      },
      "execution_count": null,
      "outputs": [
        {
          "output_type": "execute_result",
          "data": {
            "text/plain": [
              "(651191, 590757)"
            ]
          },
          "metadata": {},
          "execution_count": 6
        }
      ]
    },
    {
      "cell_type": "code",
      "source": [
        "# Import the train_test_split function from scikit-learn\n",
        "from sklearn.model_selection import train_test_split\n",
        "\n",
        "# Use train_test_split to split the data and labels into training and testing sets\n",
        "# The 'X' variable contains the TF-IDF weighted matrix, and 'data['label']' contains the corresponding labels\n",
        "# The 'train_size' parameter is set to 0.1, indicating 10% of the data is used for training\n",
        "# The 'test_size' parameter is set to 0.03, indicating 3% of the data is used for testing\n",
        "# The 'random_state' parameter is set to 1337, ensuring reproducibility of the split\n",
        "X_train, X_test, y_train, y_test = train_test_split(X, data['label'], train_size=0.1, test_size=0.03, random_state=1337) #Default is test_size = 0.25\n",
        "\n",
        "#train_sample_size = 1000 #len(X)*0.75\n",
        "#print(train_sample_size)\n",
        "\n",
        "\n",
        "# Print the shapes of the training and testing sets\n",
        "print('X_train shape is', X_train.shape)\n",
        "print('y_train shape is', y_train.shape)\n",
        "print('X_test shape is', X_test.shape)\n",
        "print('y_test shape is', y_test.shape)\n",
        "\n",
        "# Print the counts of unique labels in the training set using pandas' value_counts() function\n",
        "print(pd.value_counts(y_train))"
      ],
      "metadata": {
        "execution": {
          "iopub.status.busy": "2023-08-02T21:20:46.110202Z",
          "iopub.execute_input": "2023-08-02T21:20:46.110846Z",
          "iopub.status.idle": "2023-08-02T21:20:46.250200Z",
          "shell.execute_reply.started": "2023-08-02T21:20:46.110811Z",
          "shell.execute_reply": "2023-08-02T21:20:46.249139Z"
        },
        "trusted": true,
        "id": "QcRs2g_sNmbQ",
        "colab": {
          "base_uri": "https://localhost:8080/"
        },
        "outputId": "889e8ecb-70e5-465c-e007-c66dc130ce40"
      },
      "execution_count": null,
      "outputs": [
        {
          "output_type": "stream",
          "name": "stdout",
          "text": [
            "X_train shape is (65119, 590757)\n",
            "y_train shape is (65119,)\n",
            "X_test shape is (19536, 590757)\n",
            "y_test shape is (19536,)\n",
            "benign        42788\n",
            "defacement     9556\n",
            "phishing       9485\n",
            "malware        3290\n",
            "Name: label, dtype: int64\n"
          ]
        }
      ]
    },
    {
      "cell_type": "markdown",
      "source": [
        "# Train the Model!"
      ],
      "metadata": {
        "id": "TiiS6zdONmbR"
      }
    },
    {
      "cell_type": "code",
      "source": [
        "from sklearn.linear_model import LogisticRegression\n",
        "from sklearn.tree import DecisionTreeClassifier\n",
        "from sklearn.ensemble import RandomForestClassifier\n",
        "from sklearn.metrics import classification_report, accuracy_score, confusion_matrix"
      ],
      "metadata": {
        "execution": {
          "iopub.status.busy": "2023-08-02T21:20:46.251908Z",
          "iopub.execute_input": "2023-08-02T21:20:46.252284Z",
          "iopub.status.idle": "2023-08-02T21:20:46.562324Z",
          "shell.execute_reply.started": "2023-08-02T21:20:46.252251Z",
          "shell.execute_reply": "2023-08-02T21:20:46.561377Z"
        },
        "trusted": true,
        "id": "LVmBoyqINmbR"
      },
      "execution_count": null,
      "outputs": []
    },
    {
      "cell_type": "code",
      "source": [
        "#Train sk Model\n",
        "#model = LogisticRegression()\n",
        "model = DecisionTreeClassifier()\n",
        "#model = RandomForestClassifier()\n",
        "\n",
        "classifier = model.fit(X_train, y_train)\n",
        "y_pred = model.predict(X_test)\n",
        "cols = list(classifier.classes_)"
      ],
      "metadata": {
        "execution": {
          "iopub.status.busy": "2023-08-02T21:20:46.563744Z",
          "iopub.execute_input": "2023-08-02T21:20:46.564115Z",
          "iopub.status.idle": "2023-08-02T21:22:01.161388Z",
          "shell.execute_reply.started": "2023-08-02T21:20:46.564082Z",
          "shell.execute_reply": "2023-08-02T21:22:01.160423Z"
        },
        "trusted": true,
        "id": "h6hjyiv7NmbR"
      },
      "execution_count": null,
      "outputs": []
    },
    {
      "cell_type": "code",
      "source": [
        "# Assuming 'y_test' contains the true labels of the test data\n",
        "# and 'y_pred' contains the predicted labels generated by the classifier\n",
        "\n",
        "# Calculate the accuracy by comparing the true labels ('y_test') with the predicted labels ('y_pred')\n",
        "print(\"Accuracy: \", accuracy_score(y_test, y_pred))"
      ],
      "metadata": {
        "execution": {
          "iopub.status.busy": "2023-08-02T21:22:01.162700Z",
          "iopub.execute_input": "2023-08-02T21:22:01.163288Z",
          "iopub.status.idle": "2023-08-02T21:22:01.208501Z",
          "shell.execute_reply.started": "2023-08-02T21:22:01.163253Z",
          "shell.execute_reply": "2023-08-02T21:22:01.207598Z"
        },
        "trusted": true,
        "id": "18rDa6iBNmbS",
        "colab": {
          "base_uri": "https://localhost:8080/"
        },
        "outputId": "deb65892-d038-442b-ead7-d894139c725e"
      },
      "execution_count": null,
      "outputs": [
        {
          "output_type": "stream",
          "name": "stdout",
          "text": [
            "Accuracy:  0.9340192465192465\n"
          ]
        }
      ]
    },
    {
      "cell_type": "markdown",
      "source": [
        "# Confusion Matrix"
      ],
      "metadata": {
        "id": "QgckO_-hNmbS"
      }
    },
    {
      "cell_type": "code",
      "source": [
        "# Create a subplot for the confusion matrix plot\n",
        "ax = plt.subplot()\n",
        "\n",
        "# Compute the confusion matrix using scikit-learn's confusion_matrix function\n",
        "CM_LR = confusion_matrix(y_test,y_pred)\n",
        "\n",
        "#sns.heatmap(CM_LR, annot=True, fmt='g', ax=ax)  #annot=True to annotate cells, ftm='g' to disable scientific notation\n",
        "sns.heatmap(CM_LR, annot=True, fmt = \".1f\",cmap=\"RdBu\")\n",
        "# labels, title and ticks\n",
        "ax.set_xlabel('Predicted labels')\n",
        "ax.set_ylabel('True labels')\n",
        "ax.set_title('Confusion Matrix')\n",
        "ax.xaxis.set_ticklabels(cols)\n",
        "ax.yaxis.set_ticklabels(cols)"
      ],
      "metadata": {
        "execution": {
          "iopub.status.busy": "2023-08-02T21:22:01.209696Z",
          "iopub.execute_input": "2023-08-02T21:22:01.210008Z",
          "iopub.status.idle": "2023-08-02T21:22:01.694890Z",
          "shell.execute_reply.started": "2023-08-02T21:22:01.209976Z",
          "shell.execute_reply": "2023-08-02T21:22:01.693829Z"
        },
        "trusted": true,
        "id": "LUMpBKh9NmbS",
        "colab": {
          "base_uri": "https://localhost:8080/",
          "height": 541
        },
        "outputId": "6406db69-77ee-45de-b9f5-09fd4125ac17"
      },
      "execution_count": null,
      "outputs": [
        {
          "output_type": "execute_result",
          "data": {
            "text/plain": [
              "[Text(0, 0.5, 'benign'),\n",
              " Text(0, 1.5, 'defacement'),\n",
              " Text(0, 2.5, 'malware'),\n",
              " Text(0, 3.5, 'phishing')]"
            ]
          },
          "metadata": {},
          "execution_count": 11
        },
        {
          "output_type": "display_data",
          "data": {
            "text/plain": [
              "<Figure size 640x480 with 2 Axes>"
            ],
            "image/png": "[encoded data removed]"
          },
          "metadata": {}
        }
      ]
    },
    {
      "cell_type": "markdown",
      "source": [
        "# Play with some 'fake' entries!"
      ],
      "metadata": {
        "id": "HQ65AK_gNmbT"
      }
    },
    {
      "cell_type": "code",
      "source": [
        "test_input = pd.Series('www.google.com')\n",
        "print(model.predict(vectorizer.transform(test_input))[0])"
      ],
      "metadata": {
        "execution": {
          "iopub.status.busy": "2023-08-02T21:22:01.714790Z",
          "iopub.execute_input": "2023-08-02T21:22:01.715285Z",
          "iopub.status.idle": "2023-08-02T21:22:01.730612Z",
          "shell.execute_reply.started": "2023-08-02T21:22:01.715243Z",
          "shell.execute_reply": "2023-08-02T21:22:01.729285Z"
        },
        "trusted": true,
        "id": "wl1Nc-w8NmbT",
        "colab": {
          "base_uri": "https://localhost:8080/"
        },
        "outputId": "a1092f5f-55dc-48c1-aaff-1f846359fa15"
      },
      "execution_count": null,
      "outputs": [
        {
          "output_type": "stream",
          "name": "stdout",
          "text": [
            "phishing\n"
          ]
        }
      ]
    },
    {
      "cell_type": "code",
      "source": [
        "print(data.iloc[1340])\n",
        "print(data.iloc[1340]['text'])"
      ],
      "metadata": {
        "execution": {
          "iopub.status.busy": "2023-08-02T21:22:01.732032Z",
          "iopub.execute_input": "2023-08-02T21:22:01.732501Z",
          "iopub.status.idle": "2023-08-02T21:22:01.740695Z",
          "shell.execute_reply.started": "2023-08-02T21:22:01.732463Z",
          "shell.execute_reply": "2023-08-02T21:22:01.739611Z"
        },
        "trusted": true,
        "id": "3YiEAq8CNmbU",
        "colab": {
          "base_uri": "https://localhost:8080/"
        },
        "outputId": "58593ae5-c374-42e1-a90b-2185b92f540e"
      },
      "execution_count": null,
      "outputs": [
        {
          "output_type": "stream",
          "name": "stdout",
          "text": [
            "text     http://distrimarsanitarios.soydg.com/wp-conten...\n",
            "label                                             phishing\n",
            "Name: 1340, dtype: object\n",
            "http://distrimarsanitarios.soydg.com/wp-content/themes/jay/178bccdcc72168f6eaeec8c4b3b336fe/\n"
          ]
        }
      ]
    },
    {
      "cell_type": "code",
      "source": [
        "test_input = pd.Series('http://distrimarsanitarios.soydg.com/wp-content/themes/jay/178bccdcc72168f6eaeec8c4b3b336fe/')\n",
        "print(test_input)\n",
        "print(model.predict(vectorizer.transform(test_input))[0])"
      ],
      "metadata": {
        "execution": {
          "iopub.status.busy": "2023-08-02T21:22:01.742214Z",
          "iopub.execute_input": "2023-08-02T21:22:01.742874Z",
          "iopub.status.idle": "2023-08-02T21:22:01.760152Z",
          "shell.execute_reply.started": "2023-08-02T21:22:01.742837Z",
          "shell.execute_reply": "2023-08-02T21:22:01.758208Z"
        },
        "trusted": true,
        "id": "htEFyKt4NmbU",
        "colab": {
          "base_uri": "https://localhost:8080/"
        },
        "outputId": "8f6205ab-eeeb-4d14-c027-a7acce8518ef"
      },
      "execution_count": null,
      "outputs": [
        {
          "output_type": "stream",
          "name": "stdout",
          "text": [
            "0    http://distrimarsanitarios.soydg.com/wp-conten...\n",
            "dtype: object\n",
            "phishing\n"
          ]
        }
      ]
    },
    {
      "cell_type": "code",
      "source": [
        "import joblib"
      ],
      "metadata": {
        "id": "EdbinqF2Uh5g"
      },
      "execution_count": null,
      "outputs": []
    },
    {
      "cell_type": "code",
      "source": [
        "joblib.dump(model, \"decision_tree_model.pkl\")\n",
        "joblib.dump(model, \"tfidf_vectorizer.pkl\")"
      ],
      "metadata": {
        "colab": {
          "base_uri": "https://localhost:8080/"
        },
        "id": "vFBXde67U7Gj",
        "outputId": "12ff9a48-53f3-4f8a-ea5a-a80d234e6503"
      },
      "execution_count": null,
      "outputs": [
        {
          "output_type": "execute_result",
          "data": {
            "text/plain": [
              "['tfidf_vectorizer.pkl']"
            ]
          },
          "metadata": {},
          "execution_count": 16
        }
      ]
    }
  ]
}